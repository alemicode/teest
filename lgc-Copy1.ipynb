{
 "cells": [
  {
   "cell_type": "markdown",
   "metadata": {},
   "source": [
    "# Initializes the algorithm and shows the ideal classification"
   ]
  },
  {
   "cell_type": "code",
   "execution_count": 694,
   "metadata": {},
   "outputs": [
    {
     "name": "stderr",
     "output_type": "stream",
     "text": [
      "/var/folders/0c/_n0_6h65185cts2w36thpb8m0000gn/T/ipykernel_2741/4112954314.py:3: DeprecationWarning: `set_matplotlib_formats` is deprecated since IPython 7.23, directly use `matplotlib_inline.backend_inline.set_matplotlib_formats()`\n",
      "  set_matplotlib_formats('svg', 'pdf')\n"
     ]
    }
   ],
   "source": [
    "from IPython.display import set_matplotlib_formats\n",
    "%matplotlib inline\n",
    "set_matplotlib_formats('svg', 'pdf')\n",
    "from sklearn.metrics import classification_report\n",
    "import pickle\n",
    "from sklearn.model_selection import train_test_split\n",
    "\n",
    "\n",
    "import math\n",
    "import numpy as np\n",
    "import matplotlib.pyplot as plt\n",
    "from scipy.spatial.distance import cdist\n",
    "from sklearn.datasets import make_moons\n",
    "\n",
    "# n = 500\n",
    "# n_labeled = 10\n",
    "alpha = 0.3\n",
    "sigma = 0.2\n",
    "\n"
   ]
  },
  {
   "cell_type": "code",
   "execution_count": null,
   "metadata": {},
   "outputs": [],
   "source": []
  },
  {
   "cell_type": "code",
   "execution_count": 695,
   "metadata": {},
   "outputs": [],
   "source": [
    "# file = open('Y_input', 'wb')\n",
    "# pickle.dump(Y_input, file)\n",
    "# file.close()"
   ]
  },
  {
   "cell_type": "code",
   "execution_count": 696,
   "metadata": {},
   "outputs": [],
   "source": [
    "# file = open('X', 'wb')\n",
    "# pickle.dump(X, file)\n",
    "# file.close()"
   ]
  },
  {
   "cell_type": "code",
   "execution_count": 697,
   "metadata": {},
   "outputs": [],
   "source": [
    "# file = open('Y', 'wb')\n",
    "# pickle.dump(Y, file)\n",
    "# file.close()"
   ]
  },
  {
   "cell_type": "code",
   "execution_count": 698,
   "metadata": {},
   "outputs": [],
   "source": [
    "file = open('Y_input', 'rb')\n",
    "Y_input = pickle.load(file)"
   ]
  },
  {
   "cell_type": "code",
   "execution_count": 699,
   "metadata": {},
   "outputs": [],
   "source": [
    "file = open('adj', 'rb')\n",
    "adj = pickle.load(file)"
   ]
  },
  {
   "cell_type": "code",
   "execution_count": 700,
   "metadata": {},
   "outputs": [],
   "source": [
    "file = open('rn_weight', 'rb')\n",
    "rn_weight = pickle.load(file)"
   ]
  },
  {
   "cell_type": "code",
   "execution_count": 701,
   "metadata": {},
   "outputs": [],
   "source": [
    "file = open('y_train', 'rb')\n",
    "y_train = pickle.load(file)\n",
    "n_labeled = len(y_train)"
   ]
  },
  {
   "cell_type": "code",
   "execution_count": 702,
   "metadata": {},
   "outputs": [],
   "source": [
    "file = open('yy', 'rb')\n",
    "yy = pickle.load(file)\n"
   ]
  },
  {
   "cell_type": "code",
   "execution_count": 703,
   "metadata": {},
   "outputs": [],
   "source": [
    "file = open('X', 'rb')\n",
    "X = pickle.load(file)\n"
   ]
  },
  {
   "cell_type": "code",
   "execution_count": 704,
   "metadata": {},
   "outputs": [],
   "source": [
    "rn_weight = rn_weight[:n_labeled]\n",
    "rn_weight = np.array(rn_weight)"
   ]
  },
  {
   "cell_type": "code",
   "execution_count": 705,
   "metadata": {},
   "outputs": [
    {
     "data": {
      "text/plain": [
       "array([[ 0.        , 15.30696299, 18.31393229, ..., 36.66343573,\n",
       "        34.67631964, 35.66859996],\n",
       "       [15.30696299,  0.        , 13.38640871, ..., 33.22316123,\n",
       "        32.39044033, 32.58090141],\n",
       "       [18.31393229, 13.38640871,  0.        , ..., 24.74783223,\n",
       "        23.70176022, 23.37192389],\n",
       "       ...,\n",
       "       [36.66343573, 33.22316123, 24.74783223, ...,  0.        ,\n",
       "        14.94038242, 10.6462108 ],\n",
       "       [34.67631964, 32.39044033, 23.70176022, ..., 14.94038242,\n",
       "         0.        , 12.3489074 ],\n",
       "       [35.66859996, 32.58090141, 23.37192389, ..., 10.6462108 ,\n",
       "        12.3489074 ,  0.        ]])"
      ]
     },
     "execution_count": 705,
     "metadata": {},
     "output_type": "execute_result"
    }
   ],
   "source": [
    "adj = np.array(adj)\n",
    "adj"
   ]
  },
  {
   "cell_type": "code",
   "execution_count": null,
   "metadata": {},
   "outputs": [],
   "source": []
  },
  {
   "cell_type": "markdown",
   "metadata": {},
   "source": [
    "## Step 1: Construct the affinity matrix W"
   ]
  },
  {
   "cell_type": "code",
   "execution_count": 706,
   "metadata": {},
   "outputs": [],
   "source": [
    "dm = adj\n",
    "rbf = lambda x, sigma: math.exp((-x)/(2*(math.pow(sigma,2))))\n",
    "vfunc = np.vectorize(rbf)\n",
    "W = vfunc(dm, sigma)\n",
    "np.fill_diagonal(W, 0)"
   ]
  },
  {
   "cell_type": "markdown",
   "metadata": {},
   "source": [
    "## Step 2: Calculate S such as S = D^(-1/2)*W*D^(-1/2)"
   ]
  },
  {
   "cell_type": "code",
   "execution_count": 707,
   "metadata": {},
   "outputs": [],
   "source": [
    "def calculate_S(W):\n",
    "    d = np.sum(W, axis=1)\n",
    "    D = np.sqrt(d*d[:, np.newaxis])\n",
    "    return np.divide(W,D,where=D!=0)\n",
    "\n",
    "S = calculate_S(W)"
   ]
  },
  {
   "cell_type": "markdown",
   "metadata": {},
   "source": [
    "## Result of one iteration"
   ]
  },
  {
   "cell_type": "code",
   "execution_count": 708,
   "metadata": {
    "scrolled": true
   },
   "outputs": [
    {
     "name": "stdout",
     "output_type": "stream",
     "text": [
      "              precision    recall  f1-score   support\n",
      "\n",
      "           0       0.95      0.98      0.96       125\n",
      "           1       1.00      0.99      0.99       547\n",
      "\n",
      "    accuracy                           0.99       672\n",
      "   macro avg       0.97      0.99      0.98       672\n",
      "weighted avg       0.99      0.99      0.99       672\n",
      "\n"
     ]
    }
   ],
   "source": [
    "n_iter = 10\n",
    "F = np.dot(S, Y_input)*alpha + (1-alpha)*Y_input\n",
    "for t in range(n_iter):\n",
    "    F = np.dot(S, F)*alpha + (1-alpha)*Y_input\n",
    "    F[:n_labeled,0] =  F[:n_labeled,0] *rn_weight\n",
    "    F[:n_labeled,1] =  F[:n_labeled,1] *rn_weight\n",
    "Y_result = np.zeros_like(F)\n",
    "Y_result[np.arange(len(F)), F.argmax(1)] = 1\n",
    "\n",
    "Y_v = np.argmax(Y_result, axis=1)\n",
    "print(classification_report(yy, Y_v))\n",
    "\n"
   ]
  },
  {
   "cell_type": "code",
   "execution_count": null,
   "metadata": {},
   "outputs": [],
   "source": []
  },
  {
   "cell_type": "code",
   "execution_count": null,
   "metadata": {},
   "outputs": [],
   "source": []
  }
 ],
 "metadata": {
  "celltoolbar": "Raw Cell Format",
  "kernelspec": {
   "display_name": "Python 3 (ipykernel)",
   "language": "python",
   "name": "python3"
  },
  "language_info": {
   "codemirror_mode": {
    "name": "ipython",
    "version": 3
   },
   "file_extension": ".py",
   "mimetype": "text/x-python",
   "name": "python",
   "nbconvert_exporter": "python",
   "pygments_lexer": "ipython3",
   "version": "3.9.13"
  }
 },
 "nbformat": 4,
 "nbformat_minor": 2
}
